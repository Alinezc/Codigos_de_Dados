{
  "nbformat": 4,
  "nbformat_minor": 0,
  "metadata": {
    "colab": {
      "provenance": [],
      "collapsed_sections": []
    },
    "kernelspec": {
      "name": "python3",
      "display_name": "Python 3"
    },
    "language_info": {
      "name": "python"
    }
  },
  "cells": [
    {
      "cell_type": "code",
      "execution_count": null,
      "metadata": {
        "id": "_vhkxLwl8vKl"
      },
      "outputs": [],
      "source": [
        "#Importando a biblioteca\n",
        "import pandas as pd\n",
        "import matplotlib.pyplot as plt\n",
        "plt.style.use(\"seaborn\")"
      ]
    },
    {
      "cell_type": "code",
      "source": [
        "# Upload do arquivo\n",
        "df =  pd.read_excel(\"/content/drive/MyDrive/Datasets/xlsx/Online_Retail.xlsx\")"
      ],
      "metadata": {
        "id": "UOMYYYvV-vXQ"
      },
      "execution_count": null,
      "outputs": []
    },
    {
      "cell_type": "code",
      "source": [
        "# Criando DataFrame\n",
        "#df = pd.read_excel(\"Online_Retail.xlsx\")"
      ],
      "metadata": {
        "id": "OdVJtLpn_HTz"
      },
      "execution_count": null,
      "outputs": []
    },
    {
      "cell_type": "code",
      "source": [
        "# Exibir as 5 primeiras linhas\n",
        "df.head()"
      ],
      "metadata": {
        "id": "aKDv3lcoQbNR"
      },
      "execution_count": null,
      "outputs": []
    },
    {
      "cell_type": "code",
      "source": [
        "# Quantidade de linhas e colunas\n",
        "df.shape"
      ],
      "metadata": {
        "id": "uuU31nrYQbWy"
      },
      "execution_count": null,
      "outputs": []
    },
    {
      "cell_type": "code",
      "source": [
        "# Tipo de dado que esta guardado em cada coluna\n",
        "df.dtypes"
      ],
      "metadata": {
        "id": "OfguhUtbQbng"
      },
      "execution_count": null,
      "outputs": []
    },
    {
      "cell_type": "code",
      "source": [
        "df[\"Receita\"] = df[\"Preco Unitario\"].mul(df[\"Quantidade\"])"
      ],
      "metadata": {
        "id": "fSj6YnvXQbwZ"
      },
      "execution_count": null,
      "outputs": []
    },
    {
      "cell_type": "code",
      "source": [
        "df.head()"
      ],
      "metadata": {
        "id": "gegEcV0_VkOi"
      },
      "execution_count": null,
      "outputs": []
    },
    {
      "cell_type": "code",
      "source": [
        "df.tail()"
      ],
      "metadata": {
        "id": "pb8kmuBIX2oN"
      },
      "execution_count": null,
      "outputs": []
    },
    {
      "cell_type": "code",
      "source": [
        "# Receita total\n",
        "#round(df[\"Receita\"].sum(),2)\n",
        "df[\"Receita\"].sum()"
      ],
      "metadata": {
        "id": "BnZey-2_VuDC"
      },
      "execution_count": null,
      "outputs": []
    },
    {
      "cell_type": "code",
      "source": [
        "#dt.days /transformar em int"
      ],
      "metadata": {
        "id": "yMx1LV_sWAP5"
      },
      "execution_count": null,
      "outputs": []
    },
    {
      "cell_type": "code",
      "source": [
        "df.groupby(\"IdCliente\")[\"Receita\"].mean()"
      ],
      "metadata": {
        "id": "4_yY6tfXWAXd"
      },
      "execution_count": null,
      "outputs": []
    },
    {
      "cell_type": "markdown",
      "source": [
        "**Missing Values**"
      ],
      "metadata": {
        "id": "7WAQTCVuaSHD"
      }
    },
    {
      "cell_type": "code",
      "source": [
        "# Consultar linhas com valores faltantes\n",
        "df.isnull().sum()"
      ],
      "metadata": {
        "id": "LaGl7-HRWAbh"
      },
      "execution_count": null,
      "outputs": []
    },
    {
      "cell_type": "code",
      "source": [
        "# Apagando as linhas com valores nulos\n",
        "df.dropna(inplace =True)"
      ],
      "metadata": {
        "id": "23Thv9FzWAf0"
      },
      "execution_count": null,
      "outputs": []
    },
    {
      "cell_type": "code",
      "source": [
        "df.isnull().sum()"
      ],
      "metadata": {
        "id": "wSW7BuZvWAk7"
      },
      "execution_count": null,
      "outputs": []
    },
    {
      "cell_type": "code",
      "source": [
        "df.head()"
      ],
      "metadata": {
        "id": "lqafGfvLascC"
      },
      "execution_count": null,
      "outputs": []
    },
    {
      "cell_type": "markdown",
      "source": [
        "**Por ano e marca**"
      ],
      "metadata": {
        "id": "xJxE9MRsa6CI"
      }
    },
    {
      "cell_type": "code",
      "source": [
        "# Agrupamento por ano \n",
        "df.groupby(df[\"Data\"].dt.year)[\"Receita\"].sum()"
      ],
      "metadata": {
        "id": "RTZLW5TCa_eS"
      },
      "execution_count": null,
      "outputs": []
    },
    {
      "cell_type": "code",
      "source": [
        "# Deixa o numero completo\n",
        "pd.options.display.float_format ='{:20,.2f}'.format"
      ],
      "metadata": {
        "id": "u_Zu-a5AbLPJ"
      },
      "execution_count": null,
      "outputs": []
    },
    {
      "cell_type": "code",
      "source": [
        "# Resetando o index\n",
        "lucro_ano = df.groupby(df[\"Data\"].dt.year)[\"Receita\"].sum().reset_index()\n",
        "lucro_ano"
      ],
      "metadata": {
        "id": "m-33YaWzbLW8"
      },
      "execution_count": null,
      "outputs": []
    },
    {
      "cell_type": "code",
      "source": [
        "# Total de produtos vendidos\n",
        "df.groupby(\"Descricao\")[\"Quantidade\"].sum().sort_values(ascending=False)"
      ],
      "metadata": {
        "id": "jVXFRNHGbLbv"
      },
      "execution_count": null,
      "outputs": []
    },
    {
      "cell_type": "code",
      "source": [
        "# Grafico total de produtos vendidos\n",
        "df.groupby(\"Pais\")[\"Quantidade\"].sum().sort_values(ascending=True).plot.barh(title=\"Total Produtos Vendidos\")\n",
        "plt.xlabel(\"Pais\")\n",
        "plt.ylabel(\"Quantidade\");"
      ],
      "metadata": {
        "id": "uRwu2HU3bLhX"
      },
      "execution_count": null,
      "outputs": []
    },
    {
      "cell_type": "code",
      "source": [
        "df.groupby(df[\"Data\"].dt.year)[\"Receita\"].sum().plot.bar(title=\"Lucro x Ano\")\n",
        "plt.xlabel(\"Ano\")\n",
        "plt.ylabel(\"Receita\");"
      ],
      "metadata": {
        "id": "2C4XLcUyfM_r"
      },
      "execution_count": null,
      "outputs": []
    },
    {
      "cell_type": "code",
      "source": [
        "df.groupby(df[\"Data\"].dt.year)[\"Receita\"].sum()"
      ],
      "metadata": {
        "id": "sFOAcbsMfNLa"
      },
      "execution_count": null,
      "outputs": []
    },
    {
      "cell_type": "code",
      "source": [
        "df_2010 = df[df['Data'].dt.year == 20010]"
      ],
      "metadata": {
        "id": "Ox-v6X1afNWD"
      },
      "execution_count": null,
      "outputs": []
    },
    {
      "cell_type": "code",
      "source": [
        "df_2010.head()"
      ],
      "metadata": {
        "id": "fqqYlXqrhkcv"
      },
      "execution_count": null,
      "outputs": []
    },
    {
      "cell_type": "code",
      "source": [
        "df.groupby(\"Pais\")[\"Receita\"].sum().plot.bar(title=\"Lucro x Marca\")\n",
        "plt.xlabel(\"Pais\")\n",
        "plt.ylabel(\"Receita\")\n",
        "plt.xticks(rotation='horizontal');"
      ],
      "metadata": {
        "id": "LSPFjk-GiZNB"
      },
      "execution_count": null,
      "outputs": []
    }
  ]
}