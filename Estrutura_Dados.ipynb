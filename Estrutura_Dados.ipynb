{
  "nbformat": 4,
  "nbformat_minor": 0,
  "metadata": {
    "colab": {
      "provenance": [],
      "collapsed_sections": []
    },
    "kernelspec": {
      "name": "python3",
      "display_name": "Python 3"
    },
    "language_info": {
      "name": "python"
    }
  },
  "cells": [
    {
      "cell_type": "markdown",
      "source": [
        "# **Estrutura de Dados**"
      ],
      "metadata": {
        "id": "5XqUeLQcKsbU"
      }
    },
    {
      "cell_type": "markdown",
      "source": [
        "##Lista"
      ],
      "metadata": {
        "id": "8iCyCodNK9Oh"
      }
    },
    {
      "cell_type": "code",
      "source": [
        "#Criando uma lista de Manga\n",
        "manga = [1,2,3]\n",
        "manga"
      ],
      "metadata": {
        "colab": {
          "base_uri": "https://localhost:8080/"
        },
        "id": "c7EalhauK2aL",
        "outputId": "27aca7c6-529a-4707-d1e1-b271ef709435"
      },
      "execution_count": null,
      "outputs": [
        {
          "output_type": "execute_result",
          "data": {
            "text/plain": [
              "[1, 2, 3]"
            ]
          },
          "metadata": {},
          "execution_count": 6
        }
      ]
    },
    {
      "cell_type": "code",
      "source": [
        "manga =[\"Solo Leveling\",\"One Piece\",\"The Villainess’s 18 Year Old Attack\",\"Touch\"]\n",
        "manga"
      ],
      "metadata": {
        "colab": {
          "base_uri": "https://localhost:8080/"
        },
        "id": "HSVTdVjfLVXD",
        "outputId": "709eea99-02d4-4882-9d1d-e36f3638442c"
      },
      "execution_count": null,
      "outputs": [
        {
          "output_type": "execute_result",
          "data": {
            "text/plain": [
              "['Solo Leveling', 'One Piece', 'The Villainess’s 18 Year Old Attack', 'Touch']"
            ]
          },
          "metadata": {},
          "execution_count": 8
        }
      ]
    },
    {
      "cell_type": "code",
      "source": [
        "#Imprimindo o primeiro elemento da lista\n",
        "manga[0]"
      ],
      "metadata": {
        "colab": {
          "base_uri": "https://localhost:8080/",
          "height": 35
        },
        "id": "O-R5dSe8MGaV",
        "outputId": "cb9ba314-433c-4a86-ada7-a23a1237ba65"
      },
      "execution_count": null,
      "outputs": [
        {
          "output_type": "execute_result",
          "data": {
            "text/plain": [
              "'Solo Leveling'"
            ],
            "application/vnd.google.colaboratory.intrinsic+json": {
              "type": "string"
            }
          },
          "metadata": {},
          "execution_count": 9
        }
      ]
    },
    {
      "cell_type": "code",
      "source": [
        "#Imprimindo o quarto elemento da lista\n",
        "manga[3]"
      ],
      "metadata": {
        "colab": {
          "base_uri": "https://localhost:8080/",
          "height": 35
        },
        "id": "qx25a6GfMRBi",
        "outputId": "97870a01-ac7f-4a35-818d-ee8384089eb9"
      },
      "execution_count": null,
      "outputs": [
        {
          "output_type": "execute_result",
          "data": {
            "text/plain": [
              "'Touch'"
            ],
            "application/vnd.google.colaboratory.intrinsic+json": {
              "type": "string"
            }
          },
          "metadata": {},
          "execution_count": 10
        }
      ]
    },
    {
      "cell_type": "code",
      "source": [
        "#Substituindo o primeiro elemento da lista \n",
        "manga[0] = \"I Want to Be You, Just for a Day\""
      ],
      "metadata": {
        "id": "9zB7uyVGMl8j"
      },
      "execution_count": null,
      "outputs": []
    },
    {
      "cell_type": "code",
      "source": [
        "manga"
      ],
      "metadata": {
        "colab": {
          "base_uri": "https://localhost:8080/"
        },
        "id": "yuGPKnoZNS_s",
        "outputId": "4201c3b0-0048-4664-dd6c-1a216ed1ebbd"
      },
      "execution_count": null,
      "outputs": [
        {
          "output_type": "execute_result",
          "data": {
            "text/plain": [
              "['I Want to Be You, Just for a Day',\n",
              " 'One Piece',\n",
              " 'The Villainess’s 18 Year Old Attack',\n",
              " 'Touch']"
            ]
          },
          "metadata": {},
          "execution_count": 12
        }
      ]
    },
    {
      "cell_type": "code",
      "source": [
        "#Removendo gato da lista\n",
        "manga.remove(\"One Piece\")"
      ],
      "metadata": {
        "id": "vao7T-XFM0s0"
      },
      "execution_count": null,
      "outputs": []
    },
    {
      "cell_type": "code",
      "source": [
        "manga"
      ],
      "metadata": {
        "colab": {
          "base_uri": "https://localhost:8080/"
        },
        "id": "6M3PWrfrNN_U",
        "outputId": "71e1dfc1-f6ce-4a3c-ef18-8ca1cc1d51f3"
      },
      "execution_count": null,
      "outputs": [
        {
          "output_type": "execute_result",
          "data": {
            "text/plain": [
              "['I Want to Be You, Just for a Day',\n",
              " 'The Villainess’s 18 Year Old Attack',\n",
              " 'Touch']"
            ]
          },
          "metadata": {},
          "execution_count": 14
        }
      ]
    },
    {
      "cell_type": "code",
      "source": [
        "len(manga) #tamanho da lista"
      ],
      "metadata": {
        "colab": {
          "base_uri": "https://localhost:8080/"
        },
        "id": "Vi0K_ezGNe_d",
        "outputId": "b7723fb3-c103-40a2-e9fc-c2f74e35ca57"
      },
      "execution_count": null,
      "outputs": [
        {
          "output_type": "execute_result",
          "data": {
            "text/plain": [
              "3"
            ]
          },
          "metadata": {},
          "execution_count": 15
        }
      ]
    },
    {
      "cell_type": "code",
      "source": [
        "\"Touch\" in manga #pertence "
      ],
      "metadata": {
        "colab": {
          "base_uri": "https://localhost:8080/"
        },
        "id": "egMyHDyEOhik",
        "outputId": "8ab3ce51-c467-413d-941a-9960b83d3872"
      },
      "execution_count": null,
      "outputs": [
        {
          "output_type": "execute_result",
          "data": {
            "text/plain": [
              "True"
            ]
          },
          "metadata": {},
          "execution_count": 16
        }
      ]
    },
    {
      "cell_type": "code",
      "source": [
        "lista = [500,30,300,80,10]"
      ],
      "metadata": {
        "id": "9sgCzB1mOs7N"
      },
      "execution_count": null,
      "outputs": []
    },
    {
      "cell_type": "code",
      "source": [
        "max(lista)"
      ],
      "metadata": {
        "id": "6-DSaFznO_oy"
      },
      "execution_count": null,
      "outputs": []
    },
    {
      "cell_type": "code",
      "source": [
        "min(lista)"
      ],
      "metadata": {
        "id": "YPM2o2T7O_y0"
      },
      "execution_count": null,
      "outputs": []
    },
    {
      "cell_type": "code",
      "source": [
        "manga.append(\"Wind Breaker\") #adiciona um elemento a lista"
      ],
      "metadata": {
        "id": "KIycDbjGO_7q"
      },
      "execution_count": null,
      "outputs": []
    },
    {
      "cell_type": "code",
      "source": [
        "manga"
      ],
      "metadata": {
        "id": "ScTBEiSrPACi"
      },
      "execution_count": null,
      "outputs": []
    },
    {
      "cell_type": "code",
      "source": [
        "manga.extend([\"Devil\",\"DICE\"]) # Adiciona mais que um elemento"
      ],
      "metadata": {
        "id": "6APsnrlAPAKr"
      },
      "execution_count": null,
      "outputs": []
    },
    {
      "cell_type": "code",
      "source": [
        "manga"
      ],
      "metadata": {
        "id": "wnqc5LidQ2DI"
      },
      "execution_count": null,
      "outputs": []
    },
    {
      "cell_type": "code",
      "source": [
        "manga.count(\"Tacit\")"
      ],
      "metadata": {
        "id": "gzk2Hf3dQAor"
      },
      "execution_count": null,
      "outputs": []
    },
    {
      "cell_type": "code",
      "source": [
        "lista.sort() #Ordenação"
      ],
      "metadata": {
        "id": "exoE6IvsQAu8"
      },
      "execution_count": null,
      "outputs": []
    },
    {
      "cell_type": "code",
      "source": [
        "lista"
      ],
      "metadata": {
        "id": "GKftGdeAQAyM"
      },
      "execution_count": null,
      "outputs": []
    },
    {
      "cell_type": "markdown",
      "source": [
        "##**Tuplas**"
      ],
      "metadata": {
        "id": "BMG-ZYBNRXwk"
      }
    },
    {
      "cell_type": "code",
      "source": [
        "# As tuplas usam parênteses como sintaxe\n",
        "tp = (\"Aline\",21,\"Bruno\",32)"
      ],
      "metadata": {
        "id": "MxPS4cVPQA1d"
      },
      "execution_count": null,
      "outputs": []
    },
    {
      "cell_type": "code",
      "source": [
        "# Retornando o primeiro elemento\n",
        "tp[0]"
      ],
      "metadata": {
        "colab": {
          "base_uri": "https://localhost:8080/",
          "height": 35
        },
        "id": "J05gk03sQBDD",
        "outputId": "e0efec01-70bd-465f-cc4a-9016b91bba8d"
      },
      "execution_count": null,
      "outputs": [
        {
          "output_type": "execute_result",
          "data": {
            "text/plain": [
              "'Aline'"
            ],
            "application/vnd.google.colaboratory.intrinsic+json": {
              "type": "string"
            }
          },
          "metadata": {},
          "execution_count": 28
        }
      ]
    },
    {
      "cell_type": "code",
      "source": [
        "# Diferença das listas as tuplas são imutáceis,o que quer dizer que não podemos alterar os seus elemento\n",
        "#Erro\n",
        "tp[0] = \"Maria\""
      ],
      "metadata": {
        "id": "KWlqRhoxSW4h"
      },
      "execution_count": null,
      "outputs": []
    },
    {
      "cell_type": "code",
      "source": [
        "tp.count(\"Bruno\")"
      ],
      "metadata": {
        "colab": {
          "base_uri": "https://localhost:8080/"
        },
        "id": "IUxM5yzsSW9b",
        "outputId": "26f226b1-dc37-4e28-f723-bb5447e10ad6"
      },
      "execution_count": null,
      "outputs": [
        {
          "output_type": "execute_result",
          "data": {
            "text/plain": [
              "1"
            ]
          },
          "metadata": {},
          "execution_count": 30
        }
      ]
    },
    {
      "cell_type": "code",
      "source": [
        "tp[0:2]"
      ],
      "metadata": {
        "id": "y-fRCbNpSXAx"
      },
      "execution_count": null,
      "outputs": []
    },
    {
      "cell_type": "markdown",
      "source": [
        "##**Dicionários**"
      ],
      "metadata": {
        "id": "yZIL_jAmTWSS"
      }
    },
    {
      "cell_type": "code",
      "source": [
        "# Para criar um dicionário utilizamos as {}\n",
        "dc = {\"Aline\":21,\"Bruno\":32,\"Maria\":15,\"Lincoln\":23} # Dicionarios trabalham com o conceito chave e valor"
      ],
      "metadata": {
        "id": "iEVh0BurSXEx"
      },
      "execution_count": null,
      "outputs": []
    },
    {
      "cell_type": "code",
      "source": [
        "dc"
      ],
      "metadata": {
        "colab": {
          "base_uri": "https://localhost:8080/"
        },
        "id": "5infRWXBSXIq",
        "outputId": "ee8ec297-b5a3-49a0-8934-bbbbd57dc56f"
      },
      "execution_count": null,
      "outputs": [
        {
          "output_type": "execute_result",
          "data": {
            "text/plain": [
              "{'Aline': 21, 'Bruno': 32, 'Maria': 15, 'Lincoln': 23}"
            ]
          },
          "metadata": {},
          "execution_count": 35
        }
      ]
    },
    {
      "cell_type": "code",
      "source": [
        "# Acessandoo o valor de um dicionario atraves da chave\n",
        "dc[\"Aline\"]"
      ],
      "metadata": {
        "colab": {
          "base_uri": "https://localhost:8080/"
        },
        "id": "7t0MWxoMSXLi",
        "outputId": "e193df9c-5039-49d2-9dd7-a4db4af86333"
      },
      "execution_count": null,
      "outputs": [
        {
          "output_type": "execute_result",
          "data": {
            "text/plain": [
              "21"
            ]
          },
          "metadata": {},
          "execution_count": 36
        }
      ]
    },
    {
      "cell_type": "code",
      "source": [
        "# Atualizando o valor da Maçã\n",
        "dc[\"Aline\"] = 20\n",
        "dc"
      ],
      "metadata": {
        "id": "sNC9ZFSRUqnE"
      },
      "execution_count": null,
      "outputs": []
    },
    {
      "cell_type": "code",
      "source": [
        "# Retornamdo todas as chaves do dicionario\n",
        "dc.keys()"
      ],
      "metadata": {
        "colab": {
          "base_uri": "https://localhost:8080/"
        },
        "id": "BjicbeeTUqqy",
        "outputId": "a73bd3db-6cea-4bb9-becf-f50edfb0b81d"
      },
      "execution_count": null,
      "outputs": [
        {
          "output_type": "execute_result",
          "data": {
            "text/plain": [
              "dict_keys(['Aline', 'Bruno', 'Maria', 'Lincoln'])"
            ]
          },
          "metadata": {},
          "execution_count": 40
        }
      ]
    },
    {
      "cell_type": "code",
      "source": [
        "# Retornando os valores do dicionario\n",
        "dc.values()"
      ],
      "metadata": {
        "colab": {
          "base_uri": "https://localhost:8080/"
        },
        "id": "PpoedQBOUquu",
        "outputId": "0304ec6b-8a54-4121-e8b2-2253e0fecbeb"
      },
      "execution_count": null,
      "outputs": [
        {
          "output_type": "execute_result",
          "data": {
            "text/plain": [
              "dict_values([20, 32, 15, 23])"
            ]
          },
          "metadata": {},
          "execution_count": 41
        }
      ]
    },
    {
      "cell_type": "code",
      "source": [
        "# Verificando se já existe uma chave no dicionario e caso não exista inserir\n",
        "dc.setdefault(\"Aparecido\",14)"
      ],
      "metadata": {
        "colab": {
          "base_uri": "https://localhost:8080/"
        },
        "id": "7Lu0Nk7CUrFz",
        "outputId": "6bf9ba2d-e55b-4029-fb39-918d03e31237"
      },
      "execution_count": null,
      "outputs": [
        {
          "output_type": "execute_result",
          "data": {
            "text/plain": [
              "14"
            ]
          },
          "metadata": {},
          "execution_count": 42
        }
      ]
    },
    {
      "cell_type": "code",
      "source": [
        "dc"
      ],
      "metadata": {
        "colab": {
          "base_uri": "https://localhost:8080/"
        },
        "id": "XX0dntm8Urz3",
        "outputId": "c62bb796-4e26-4347-c129-128e25fdd80f"
      },
      "execution_count": null,
      "outputs": [
        {
          "output_type": "execute_result",
          "data": {
            "text/plain": [
              "{'Aline': 20, 'Bruno': 32, 'Maria': 15, 'Lincoln': 23, 'Aparecido': 14}"
            ]
          },
          "metadata": {},
          "execution_count": 43
        }
      ]
    }
  ]
}