{
  "nbformat": 4,
  "nbformat_minor": 0,
  "metadata": {
    "colab": {
      "provenance": [],
      "collapsed_sections": []
    },
    "kernelspec": {
      "name": "ir",
      "display_name": "R"
    },
    "language_info": {
      "name": "R"
    },
    "gpuClass": "standard"
  },
  "cells": [
    {
      "cell_type": "code",
      "source": [
        "#Quando usar o google colab,vai precisar instalar sempre,antes de continuar.\n",
        "\n",
        "install.packages(\"rtweet\")"
      ],
      "metadata": {
        "id": "XYzH8ZcaCJJr",
        "colab": {
          "base_uri": "https://localhost:8080/"
        },
        "outputId": "5da533fe-407f-44af-98d1-1773d4e7ad24"
      },
      "execution_count": 1,
      "outputs": [
        {
          "output_type": "stream",
          "name": "stderr",
          "text": [
            "Installing package into ‘/usr/local/lib/R/site-library’\n",
            "(as ‘lib’ is unspecified)\n",
            "\n"
          ]
        }
      ]
    },
    {
      "cell_type": "code",
      "source": [
        "#importar a biblioteca rtweet\n",
        "\n",
        "library(rtweet)"
      ],
      "metadata": {
        "id": "QxybabLoCifU"
      },
      "execution_count": 3,
      "outputs": []
    },
    {
      "cell_type": "code",
      "source": [
        "#importar biblioteca para visualização\n",
        "library(maps)\n",
        "library(ggplot2)\n",
        "library(dplyr)\n",
        "library(mapdata)\n",
        "library(ggplot2)"
      ],
      "metadata": {
        "id": "Haz2JO7OCyiL"
      },
      "execution_count": null,
      "outputs": []
    },
    {
      "cell_type": "code",
      "source": [
        "install.packages(\"hexbin\")"
      ],
      "metadata": {
        "id": "5_ZvrhPpbMmM",
        "colab": {
          "base_uri": "https://localhost:8080/"
        },
        "outputId": "272c317c-997f-42e2-c1c9-e04103d3ded0"
      },
      "execution_count": 5,
      "outputs": [
        {
          "output_type": "stream",
          "name": "stderr",
          "text": [
            "Installing package into ‘/usr/local/lib/R/site-library’\n",
            "(as ‘lib’ is unspecified)\n",
            "\n"
          ]
        }
      ]
    },
    {
      "cell_type": "code",
      "source": [
        "library(tidytext)"
      ],
      "metadata": {
        "id": "dB8XLYLaDNo9"
      },
      "execution_count": null,
      "outputs": []
    },
    {
      "cell_type": "code",
      "source": [
        "#Credenciais para ultilização da API do Twitter\n",
        "#Define as variaveis com os valores de chaves do twitter\n",
        "\n",
        "app <- \"Knime & Twitter\"\n",
        "api_key <- \"V1pXdWxehSPl5WyXYHONkVJ4S\"\n",
        "api_secret_key <- \"hLtV7NWG3wf7fUe5pSpD3NNktVXTUbDx1ewaxKijwEUygUSSME\"\n",
        "access_token <- \"1488515375843225600-tvykObTkFtvujWNXxmecmxDjCVmNXe\"\n",
        "access_token_secret <- \"m5QR6HVyPebsnyLErZ9FjC8eXM4natxAPY1Z7FOV9a149\""
      ],
      "metadata": {
        "id": "hAk0jJnHDRAL"
      },
      "execution_count": 7,
      "outputs": []
    },
    {
      "cell_type": "code",
      "source": [
        "#Autenticação via metodo create_token salvando o token na variavel\n",
        "\n",
        "toke <- create_token ( app = app,\n",
        " consumer_key = api_key,\n",
        " consumer_secret = api_secret_key,\n",
        " access_token = access_token,\n",
        " access_secret = access_token_secret)"
      ],
      "metadata": {
        "id": "xuSzYvRXFyOk"
      },
      "execution_count": null,
      "outputs": []
    },
    {
      "cell_type": "markdown",
      "source": [
        "# Coleta tweets de um usuario especifico"
      ],
      "metadata": {
        "id": "kiAKvC52G6IT"
      }
    },
    {
      "cell_type": "code",
      "source": [
        "#Buscar tweets de uma determinado usuario\n",
        "#A coleta pode chegar mais ou menos 32000\n",
        "\n",
        "tweets_timeline <- get_timeline(\"@Ricamconsult\",n = 20, include_rts = FALSE)"
      ],
      "metadata": {
        "id": "5AVuz-zuHO3Q"
      },
      "execution_count": 9,
      "outputs": []
    },
    {
      "cell_type": "code",
      "source": [
        "length(tweets_timeline)"
      ],
      "metadata": {
        "id": "l2XgYOblH2UV",
        "colab": {
          "base_uri": "https://localhost:8080/",
          "height": 34
        },
        "outputId": "33fab9f0-d6db-4eef-a90f-c551d0a604b9"
      },
      "execution_count": 10,
      "outputs": [
        {
          "output_type": "display_data",
          "data": {
            "text/html": [
              "43"
            ],
            "text/markdown": "43",
            "text/latex": "43",
            "text/plain": [
              "[1] 43"
            ]
          },
          "metadata": {}
        }
      ]
    },
    {
      "cell_type": "code",
      "source": [
        "#Visualizar os primeiros tweets do vetor\n",
        "\n",
        "head(tweets_timeline,2)"
      ],
      "metadata": {
        "id": "0f9RItSMIB99"
      },
      "execution_count": null,
      "outputs": []
    },
    {
      "cell_type": "markdown",
      "source": [
        "# Visualização de Dados - timeline"
      ],
      "metadata": {
        "id": "gNfk7DlvIzyL"
      }
    },
    {
      "cell_type": "code",
      "source": [
        "## Plota a serie temporal dos tweets\n",
        "\n",
        "ts_plot(tweets_timeline , \"3 hours\") +\n",
        " ggplot2::theme_minimal() + \n",
        " ggplot2::theme(plot.title = ggplot2::element_text (face = \"bold\")) + \n",
        " ggplot2::labs(\n",
        "  x = \"Ano\", y = \"Quantidade\",\n",
        "  title = \"Frequencia de tweets do usuario @Ricamconsult\",\n",
        "  subtitle = \"Contagem de tweets agregados em intervalos de 3 horas\",\n",
        "  caption = \"\\n Fonte: Dados coletados do Twitter por Aline com o pacote rtweet\"\n",
        " )"
      ],
      "metadata": {
        "id": "87Ipt-TfI_Fk"
      },
      "execution_count": null,
      "outputs": []
    },
    {
      "cell_type": "code",
      "source": [
        "## Plota a serie temporal dos tweets\n",
        "\n",
        "ts_plot(tweets_timeline , \"1 day\") +\n",
        " ggplot2::theme_minimal() + \n",
        " ggplot2::theme(plot.title = ggplot2::element_text (face = \"bold\")) + \n",
        " ggplot2::labs(\n",
        "  x = \"HORA\", y = \"Quantidade\",\n",
        "  title = \"Frequencia de tweets do usuario @Ricamconsult\",\n",
        "  subtitle = \"Contagem de tweets agregados em intervalo de 1 Dia\",\n",
        "  caption = \"\\n Fonte: Dados coletados do Twitter por Aline com o pacote rtweet\"\n",
        " )"
      ],
      "metadata": {
        "id": "lAiYIItRLCpJ"
      },
      "execution_count": null,
      "outputs": []
    },
    {
      "cell_type": "code",
      "source": [
        "write_as_csv(tweets_timeline,\"tweets_timeline.csv\",fileEncoding = \"UTF-8\")"
      ],
      "metadata": {
        "id": "OgjTx9rTOSz5"
      },
      "execution_count": null,
      "outputs": []
    },
    {
      "cell_type": "code",
      "source": [
        "getwd()"
      ],
      "metadata": {
        "id": "WDb67q8mOzoR"
      },
      "execution_count": null,
      "outputs": []
    },
    {
      "cell_type": "markdown",
      "source": [
        "# Coleta trend tweets"
      ],
      "metadata": {
        "id": "G1oItAFYMBGY"
      }
    },
    {
      "cell_type": "code",
      "source": [
        "# Quais são ps trends disponiveis\n",
        "\n",
        "trends <- trends_available()\n",
        "trends"
      ],
      "metadata": {
        "id": "b4l7H_qLMJDH"
      },
      "execution_count": null,
      "outputs": []
    },
    {
      "cell_type": "code",
      "source": [
        "# Trend topic no Brasil disponivel nesse momento\n",
        "# A localização do Brasil  é woeid = 23424768 (Where On Earth ID)\n",
        "\n",
        "trends_brasil <- get_trends(woeid = 23424768)\n",
        "#ww_trends <- get_trends(worldwide)"
      ],
      "metadata": {
        "id": "5rv14obEMiry"
      },
      "execution_count": null,
      "outputs": []
    },
    {
      "cell_type": "code",
      "source": [
        "# Cria var lat/lgn (latitude e longitude) para os tweets disponiveis\n",
        "\n",
        "trends_brasil <- lat_lng(trends_brasil)"
      ],
      "metadata": {
        "id": "jX0EEKH5NgaR"
      },
      "execution_count": null,
      "outputs": []
    },
    {
      "cell_type": "code",
      "source": [
        "trends_brasil$trend[1:10]"
      ],
      "metadata": {
        "id": "76s_fQHjN-_U"
      },
      "execution_count": null,
      "outputs": []
    },
    {
      "cell_type": "code",
      "source": [
        "head(trends_brasil,1)"
      ],
      "metadata": {
        "id": "jxfpqzZeN_c5"
      },
      "execution_count": null,
      "outputs": []
    },
    {
      "cell_type": "code",
      "source": [
        "#Busca por 10000 tweets enviados dos EUA\n",
        "\n",
        "tweets_geocode <-search_tweets(\"lang:en\",geocode=lookup_coords(\"usa\"),n=10000)\n",
        "length(tweets_geocode)"
      ],
      "metadata": {
        "id": "PN0sTfq3VMeF"
      },
      "execution_count": null,
      "outputs": []
    },
    {
      "cell_type": "code",
      "source": [
        "tweets_geocode <- lat_lng(tweets_geocode)"
      ],
      "metadata": {
        "id": "6ZH4b2jlV3YN"
      },
      "execution_count": null,
      "outputs": []
    },
    {
      "cell_type": "code",
      "source": [
        "# plota o mapa dos EUA\n",
        "\n",
        "par(mar=c(0,0,0,0))\n",
        "\n",
        "maps::map(\"world\",\"usa\",lwd = 0.5,fill=T,col=\"grey95\")\n",
        "maps::map(,,add=T)\n",
        "maps::map.axes()\n",
        "map::map.scale(ratio=T,cex=0.5)\n",
        "abline(h=0,lty=2)\n",
        "#maps::map.cities(country=\"usa\",minpop=2000000,pch=15,cex=0.9)\n",
        "\n",
        "#Add os tweets no mapa\n",
        "with(tweets_geocode,points(lng,lar,pch=20,cex=0.75, cpl = rgb(0,.3,.7,.75)))"
      ],
      "metadata": {
        "id": "E_aSYMQJWWWu"
      },
      "execution_count": null,
      "outputs": []
    }
  ]
}