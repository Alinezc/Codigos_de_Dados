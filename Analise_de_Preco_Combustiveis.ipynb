{
  "nbformat": 4,
  "nbformat_minor": 0,
  "metadata": {
    "colab": {
      "provenance": [],
      "collapsed_sections": []
    },
    "kernelspec": {
      "name": "python3",
      "display_name": "Python 3"
    },
    "language_info": {
      "name": "python"
    }
  },
  "cells": [
    {
      "cell_type": "code",
      "source": [
        "#Importando a biblioteca\n",
        "import pandas as pd"
      ],
      "metadata": {
        "id": "Q1mi-0P1OdZk"
      },
      "execution_count": null,
      "outputs": []
    },
    {
      "cell_type": "code",
      "source": [
        "# Leitura dos arquivos\n",
        "#from google.colab import files\n",
        "#arq = files.upload()\n",
        "f1 = pd.read_excel(\"/content/drive/MyDrive/Datasets/xlsx/glp-2019-01.xlsx\")\n",
        "f2 = pd.read_excel(\"/content/drive/MyDrive/Datasets/xlsx/glp-2019-02.xlsx\")\n",
        "f3 = pd.read_excel(\"/content/drive/MyDrive/Datasets/xlsx/glp-2020-01.xlsx\")\n",
        "f4 = pd.read_excel(\"/content/drive/MyDrive/Datasets/xlsx/glp-2020-02.xlsx\")"
      ],
      "metadata": {
        "id": "xz9WCiqeOoXL"
      },
      "execution_count": null,
      "outputs": []
    },
    {
      "cell_type": "code",
      "source": [
        "f1.head()"
      ],
      "metadata": {
        "id": "QovxjH0moKzL"
      },
      "execution_count": null,
      "outputs": []
    },
    {
      "cell_type": "code",
      "source": [
        "# Juntar todos os arquivos\n",
        "df = pd.concat([f1,f2,f3,f4])"
      ],
      "metadata": {
        "id": "vAO_CHL6OofV"
      },
      "execution_count": null,
      "outputs": []
    },
    {
      "cell_type": "code",
      "source": [
        "# Exibir as 5 primeiras linhas\n",
        "df.head()"
      ],
      "metadata": {
        "id": "efZN4gXhOomH"
      },
      "execution_count": null,
      "outputs": []
    },
    {
      "cell_type": "code",
      "source": [
        "# Exibir as 5 ultimas linhas\n",
        "df.tail()"
      ],
      "metadata": {
        "id": "dO-c2AHzOowo"
      },
      "execution_count": null,
      "outputs": []
    },
    {
      "cell_type": "code",
      "source": [
        "# Gera aleatorio dados\n",
        "df.sample(5)"
      ],
      "metadata": {
        "id": "34mJVjbdVf0k"
      },
      "execution_count": null,
      "outputs": []
    },
    {
      "cell_type": "code",
      "source": [
        "# Tipo de dado que esta guardado em cada coluna\n",
        "df.dtypes"
      ],
      "metadata": {
        "id": "PlW277vTTP73"
      },
      "execution_count": null,
      "outputs": []
    },
    {
      "cell_type": "code",
      "source": [
        "# Alterando o tipo de dado da coluna\n",
        "#df[\"Data da Coleta\"] = df[\"Data da Coleta\"].astype(int) "
      ],
      "metadata": {
        "id": "ZNYjz30iTQBQ"
      },
      "execution_count": null,
      "outputs": []
    },
    {
      "cell_type": "code",
      "source": [
        "df.rename(columns={\"Estado - Sigla\":\"Estado\"},inplace = True)\n"
      ],
      "metadata": {
        "id": "FDCPMc3sOGCt"
      },
      "execution_count": null,
      "outputs": []
    },
    {
      "cell_type": "code",
      "source": [
        "df.head() "
      ],
      "metadata": {
        "id": "23MugWEXOazR"
      },
      "execution_count": null,
      "outputs": []
    },
    {
      "cell_type": "markdown",
      "source": [
        "**Tratando valores faltantes**"
      ],
      "metadata": {
        "id": "e1gNZ0El92xK"
      }
    },
    {
      "cell_type": "code",
      "source": [
        "# Consultar linhas com valores faltantes\n",
        "df.isnull().sum()"
      ],
      "metadata": {
        "id": "gLX9yIaO91bK"
      },
      "execution_count": null,
      "outputs": []
    },
    {
      "cell_type": "code",
      "source": [
        "# Substituindo os valores nulos pela média\n",
        "df[\"Valor de Compra\"].fillna(df[\"Valor de Compra\"].mean(),inplace=True)\n",
        "df[\"Unidade de Medida\"].fillna(df[\"Unidade de Medida\"].mean(),inplace=True)\n",
        "df[\"Valor de Venda\"].fillna(df[\"Valor de Venda\"].mean(),inplace=True)"
      ],
      "metadata": {
        "id": "ZtlyZiz3TQIB"
      },
      "execution_count": null,
      "outputs": []
    },
    {
      "cell_type": "code",
      "source": [
        "#Verificar a media\n",
        "#df[\"Valor de Compra\"].mean()\n",
        "#df[\"Unidade de Medida\"].mean()\n",
        "#df[\"Valor de Venda\"].mean()"
      ],
      "metadata": {
        "id": "gEDfytTlBhhR"
      },
      "execution_count": null,
      "outputs": []
    },
    {
      "cell_type": "code",
      "source": [
        "df.isnull().sum()"
      ],
      "metadata": {
        "id": "65CpICAITQbJ"
      },
      "execution_count": null,
      "outputs": []
    },
    {
      "cell_type": "code",
      "source": [
        "\"\"\"\n",
        "#Substituindo os valores nulos por 0\n",
        "df[\"Valor de Venda\"].fillna(0,inplace=True)\n",
        "\"\"\" \n",
        "# Apagando as linhas com valores nulos\n",
        "df.dropna(inplace =True)"
      ],
      "metadata": {
        "id": "iIUs_jz_-3kd"
      },
      "execution_count": null,
      "outputs": []
    },
    {
      "cell_type": "code",
      "source": [
        "# Apagando as linhas com valores nulos com base apenas em 1 coluna\n",
        "#df.dropna(subset=[\"Vendas\"],inplace =True)"
      ],
      "metadata": {
        "id": "Xo4j7tTg-3uL"
      },
      "execution_count": null,
      "outputs": []
    },
    {
      "cell_type": "code",
      "source": [
        "# Removendo linhas que estejam com valores faltantes em todas as colunas\n",
        "#df.dropna(how=\"all\",inplace =True)"
      ],
      "metadata": {
        "id": "iGrvI5KqBOpK"
      },
      "execution_count": null,
      "outputs": []
    },
    {
      "cell_type": "markdown",
      "source": [
        "***Criando colunas novas***"
      ],
      "metadata": {
        "id": "RdaRm_XgCyib"
      }
    },
    {
      "cell_type": "code",
      "source": [
        "# Criando a coluna de receita\n",
        "#df[\"Receita\"] = df[\"Valor de Venda\"].mul(df[\"Qtde\"]) / mul *\n",
        "df[\"Lucro\"] = df[\"Valor de Venda\"].subtract(df[\"Valor de Compra\"])"
      ],
      "metadata": {
        "id": "hDIj3Cc_C87J"
      },
      "execution_count": null,
      "outputs": []
    },
    {
      "cell_type": "code",
      "source": [
        "# Apagar coluna\n",
        "df.drop([\"Kucro\"], axis=1, inplace=True)"
      ],
      "metadata": {
        "id": "wKksYkSfFuG6"
      },
      "execution_count": null,
      "outputs": []
    },
    {
      "cell_type": "code",
      "source": [
        "df.head()"
      ],
      "metadata": {
        "id": "58DuB7AmDYNx"
      },
      "execution_count": null,
      "outputs": []
    },
    {
      "cell_type": "code",
      "source": [
        "# Retornando a maior receita\n",
        "df[\"Lucro\"].max()"
      ],
      "metadata": {
        "id": "xZhhd7LGD4Ap"
      },
      "execution_count": null,
      "outputs": []
    },
    {
      "cell_type": "code",
      "source": [
        "# Retornando a menor receita\n",
        "df[\"Lucro\"].min()"
      ],
      "metadata": {
        "id": "lzAUAhCiH0Nx"
      },
      "execution_count": null,
      "outputs": []
    },
    {
      "cell_type": "code",
      "source": [
        "# nlargest /top 3 maior lucro\n",
        "df.nlargest(3,\"Lucro\")"
      ],
      "metadata": {
        "id": "tZ2w83JCICC_"
      },
      "execution_count": null,
      "outputs": []
    },
    {
      "cell_type": "code",
      "source": [
        "# nsmallest\n",
        "df.nsmallest(3,\"Lucro\")"
      ],
      "metadata": {
        "id": "Wm53yWoiICQf"
      },
      "execution_count": null,
      "outputs": []
    },
    {
      "cell_type": "code",
      "source": [
        "# Agrupamento por cidade\n",
        "df.groupby(\"Estado\")[\"Lucro\"].sum()"
      ],
      "metadata": {
        "id": "-j_HFI6nICX3"
      },
      "execution_count": null,
      "outputs": []
    },
    {
      "cell_type": "code",
      "source": [
        "# Ordenando o conjunto de dados\n",
        "df.sort_values(\"Lucro\",ascending=False).head(10)"
      ],
      "metadata": {
        "id": "AvVOySqLICdm"
      },
      "execution_count": null,
      "outputs": []
    },
    {
      "cell_type": "markdown",
      "source": [
        "**Trabalhando com datas**"
      ],
      "metadata": {
        "id": "_7uculL0J8hB"
      }
    },
    {
      "cell_type": "code",
      "source": [
        "# Transformando a coluna de data em tipo inteiro\n",
        "df[\"Data da Coleta\"] = df[\"Data da Coleta\"].astype('int64')\n",
        "#df['Ranking'] = df['Ranking'].astype(int)"
      ],
      "metadata": {
        "id": "XD9-BJpBH0V3"
      },
      "execution_count": null,
      "outputs": []
    },
    {
      "cell_type": "code",
      "source": [
        "# Verificar o tipo de dado de cada coluna\n",
        "df.dtypes"
      ],
      "metadata": {
        "id": "5uJdJ_L7JEOj"
      },
      "execution_count": null,
      "outputs": []
    },
    {
      "cell_type": "code",
      "source": [
        "# Transformar coulna de da em data\n",
        "df[\"Data da Coleta\"] = pd.to_datetime(df[\"Data da Coleta\"])"
      ],
      "metadata": {
        "id": "fEy-HjViJEZp"
      },
      "execution_count": null,
      "outputs": []
    },
    {
      "cell_type": "code",
      "source": [
        "df.dtypes"
      ],
      "metadata": {
        "id": "-ad9OJcBJEmp"
      },
      "execution_count": null,
      "outputs": []
    },
    {
      "cell_type": "code",
      "source": [
        "# Agrupamento por ano\n",
        "df.groupby(df[\"Data da Coleta\"].dt.year)[\"Lucro\"].sum()"
      ],
      "metadata": {
        "id": "LwaLVOXmJEvv"
      },
      "execution_count": null,
      "outputs": []
    },
    {
      "cell_type": "code",
      "source": [
        "# Criando uma nova coluna com o ano\n",
        "df[\"Ano_Venda\"] = df[\"Data da Coleta\"].dt.year"
      ],
      "metadata": {
        "id": "xyjraOg0J5zK"
      },
      "execution_count": null,
      "outputs": []
    },
    {
      "cell_type": "code",
      "source": [
        "df.sample(5)"
      ],
      "metadata": {
        "id": "PeX5pjNGJ56Z"
      },
      "execution_count": null,
      "outputs": []
    },
    {
      "cell_type": "code",
      "source": [
        "# Extraindo o mês e o dia\n",
        "df[\"mes_venda\"],df[\"dia_venda\"] = (df[\"Data da Coleta\"].dt.month,df[\"Data da Coleta\"].dt.day)"
      ],
      "metadata": {
        "id": "c2kZOY5VL6Xk"
      },
      "execution_count": null,
      "outputs": []
    },
    {
      "cell_type": "code",
      "source": [
        "df.sample(5)"
      ],
      "metadata": {
        "id": "oPSCOJESL6hN"
      },
      "execution_count": null,
      "outputs": []
    },
    {
      "cell_type": "code",
      "source": [
        "# Retornando a data mais antiga\n",
        "df[\"Data da Coleta\"].min() #max\n"
      ],
      "metadata": {
        "id": "Q2K6hYhRL6nM"
      },
      "execution_count": null,
      "outputs": []
    },
    {
      "cell_type": "code",
      "source": [
        "# Calculando a diferença de dias\n",
        "df[\"diferença_dias\"] = df[\"Data da Coleta\"] - df[\"Data da Coleta\"].min()"
      ],
      "metadata": {
        "id": "XLwP0G2ML6wy"
      },
      "execution_count": null,
      "outputs": []
    },
    {
      "cell_type": "code",
      "source": [
        "df.sample(5)"
      ],
      "metadata": {
        "id": "tb4yVSVWRbqR"
      },
      "execution_count": null,
      "outputs": []
    },
    {
      "cell_type": "code",
      "source": [
        "# Criando a coluna de trimestre\n",
        "df[\"Trimestre_venda\"] = df[\"Data da Coleta\"].dt.quarter"
      ],
      "metadata": {
        "id": "V5HcpHAlSPlK"
      },
      "execution_count": null,
      "outputs": []
    },
    {
      "cell_type": "code",
      "source": [
        "\"\"\" \n",
        "df.drop([\"Semestre_venda\"], axis=1, inplace=True)\n",
        "df.drop([\"mes_venda\"], axis=1, inplace=True)\n",
        "df.drop([\"dia_venda\"], axis=1, inplace=True)\n",
        "\"\"\"\n",
        "df.drop([\"diferença_dias\"], axis=1, inplace=True)"
      ],
      "metadata": {
        "id": "h4Q-8oIRS9yp"
      },
      "execution_count": null,
      "outputs": []
    },
    {
      "cell_type": "code",
      "source": [
        "df.sample(5)"
      ],
      "metadata": {
        "id": "RTFX3upySPuP"
      },
      "execution_count": null,
      "outputs": []
    },
    {
      "cell_type": "code",
      "source": [
        "# Filtrando as vendas de 2020 do mes de março\n",
        "Venda_marco_2020 = df.loc[(df[\"Data da Coleta\"].dt.year ==2020) & (df[\"Data da Coleta\"].dt.month == 3)]"
      ],
      "metadata": {
        "id": "lxmbn5qvT0vi"
      },
      "execution_count": null,
      "outputs": []
    },
    {
      "cell_type": "code",
      "source": [
        "Venda_marco_2020"
      ],
      "metadata": {
        "id": "CETx8-xpT043"
      },
      "execution_count": null,
      "outputs": []
    },
    {
      "cell_type": "markdown",
      "source": [
        "**Visualização de dados**"
      ],
      "metadata": {
        "id": "C6kEuqh2Uy0a"
      }
    },
    {
      "cell_type": "code",
      "source": [
        "df[\"Estado\"].value_counts(ascending=False)"
      ],
      "metadata": {
        "id": "grB4hrAgT0-9"
      },
      "execution_count": null,
      "outputs": []
    },
    {
      "cell_type": "code",
      "source": [
        "# Grafico em barra\n",
        "df[\"Estado\"].value_counts(ascending=False).plot.bar()"
      ],
      "metadata": {
        "id": "8wpk5BCJT1F8"
      },
      "execution_count": null,
      "outputs": []
    },
    {
      "cell_type": "code",
      "source": [
        "# Grafico em barras horizontais\n",
        "df[\"Estado\"].value_counts().plot.barh();"
      ],
      "metadata": {
        "id": "CT_Whg81Vq8i"
      },
      "execution_count": null,
      "outputs": []
    },
    {
      "cell_type": "code",
      "source": [
        "# Grafico em bbarras horizontais\n",
        "df[\"Estado\"].value_counts(ascending=True).plot.barh();"
      ],
      "metadata": {
        "id": "D21xl5D3VrFg"
      },
      "execution_count": null,
      "outputs": []
    },
    {
      "cell_type": "code",
      "source": [
        "# Grafico em pizza\n",
        "df.groupby(df[\"Data da Coleta\"].dt.year)[\"Lucro\"].sum().plot.pie();"
      ],
      "metadata": {
        "id": "LO5NINJHVrJw"
      },
      "execution_count": null,
      "outputs": []
    },
    {
      "cell_type": "code",
      "source": [
        "# Total vendas por estado\n",
        "df[\"Estado\"].value_counts()"
      ],
      "metadata": {
        "id": "Z6AEYIObVrWJ"
      },
      "execution_count": null,
      "outputs": []
    },
    {
      "cell_type": "code",
      "source": [
        "# Adicionando um titulo e altereando o nome dos eixos\n",
        "import matplotlib.pyplot as plt\n",
        "df[\"Estado\"].value_counts().plot.bar(title=\"Total de vendas por Estado\")\n",
        "plt.xlabel(\"Estado\")\n",
        "plt.ylabel(\"Total de Vendas\");"
      ],
      "metadata": {
        "id": "KUb9DevqYk9y"
      },
      "execution_count": null,
      "outputs": []
    },
    {
      "cell_type": "code",
      "source": [
        "# Alterando a cor\n",
        "df[\"Estado\"].value_counts().plot.bar(title=\"Total de venda por Estado\",color=\"cyan\")\n",
        "plt.xlabel(\"Estado\")\n",
        "plt.ylabel(\"Total de Vendas\");"
      ],
      "metadata": {
        "id": "yAtUST5PYmsa"
      },
      "execution_count": null,
      "outputs": []
    },
    {
      "cell_type": "code",
      "source": [
        "# Alterando o estilo\n",
        "plt.style.use(\"dark_background\")"
      ],
      "metadata": {
        "id": "8POlqBHPYmx_"
      },
      "execution_count": null,
      "outputs": []
    },
    {
      "cell_type": "code",
      "source": [
        "df.groupby(df[\"Estado\"])[\"Valor de Compra\"].sum().plot(title =\"Total de Compra de Combustíveis por Estado\")\n",
        "plt.xlabel(\"Estado\")\n",
        "plt.ylabel(\"Valor de Compra\");\n",
        "plt.legend();"
      ],
      "metadata": {
        "id": "XGSLiC_bYlGg"
      },
      "execution_count": null,
      "outputs": []
    },
    {
      "cell_type": "code",
      "source": [
        "# Selecionando apenas as vendas de 2020\n",
        "df_2020 = df[df[\"Ano_Venda\"] == 2020]"
      ],
      "metadata": {
        "id": "7HETE1rq2P9i"
      },
      "execution_count": null,
      "outputs": []
    },
    {
      "cell_type": "code",
      "source": [
        "df_2020.groupby(df_2020[\"Ano_Venda\"])[\"Trimestre_venda\"].sum()"
      ],
      "metadata": {
        "id": "1VlSlX3F4tv3"
      },
      "execution_count": null,
      "outputs": []
    },
    {
      "cell_type": "code",
      "source": [
        "# Total produtos vendidos por mês\n",
        "df_2020.groupby(df_2020[\"Estado\"])[\"Valor de Compra\"].sum().plot(marker = \"v\")\n",
        "plt.xlabel(\"Estado\")\n",
        "plt.ylabel(\"Valor de Compra\")\n",
        "plt.legend();"
      ],
      "metadata": {
        "id": "Rnfp1mJh2QId"
      },
      "execution_count": null,
      "outputs": []
    },
    {
      "cell_type": "code",
      "source": [
        "# HISOGRAMA\n",
        "plt.hist(df[\"Estado\"],color=\"pink\");"
      ],
      "metadata": {
        "id": "rCbHmL0g38DU"
      },
      "execution_count": null,
      "outputs": []
    },
    {
      "cell_type": "code",
      "source": [
        "plt.scatter(x=df_2020[\"Trimestre_venda\"],y = df_2020[\"Lucro\"]);"
      ],
      "metadata": {
        "id": "sWG26geb4c7S"
      },
      "execution_count": null,
      "outputs": []
    },
    {
      "cell_type": "code",
      "source": [
        "# Salvando em png\n",
        "df_2020.groupby(df_2020[\"Estado\"])[\"Valor de Compra\"].sum().plot(marker = \"v\")\n",
        "plt.title(\"Total de Compra de Combustíveis por Estado\")\n",
        "plt.xlabel(\"Estado\")\n",
        "plt.ylabel(\"Valor de Compra\")\n",
        "plt.legend();\n",
        "plt.savefig(\"Grafico.png\")"
      ],
      "metadata": {
        "id": "EmphZxNw4eA6"
      },
      "execution_count": null,
      "outputs": []
    }
  ]
}