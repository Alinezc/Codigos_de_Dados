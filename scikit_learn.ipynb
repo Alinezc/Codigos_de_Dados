{
  "cells": [
    {
      "cell_type": "markdown",
      "source": [
        "**Biblioteca scikit-learn**"
      ],
      "metadata": {
        "id": "Yr84WgH7dhsO"
      }
    },
    {
      "cell_type": "code",
      "source": [
        "from sklearn.datasets import make_regression"
      ],
      "metadata": {
        "id": "AiaXdHD1dp_o"
      },
      "execution_count": 3,
      "outputs": []
    },
    {
      "cell_type": "code",
      "source": [
        "# Gerando uma massa de dados:\n",
        "x, y = make_regression(n_samples=250, n_features=1, noise=35) # Regressão"
      ],
      "metadata": {
        "id": "qRF6VnMPej5l"
      },
      "execution_count": 4,
      "outputs": []
    },
    {
      "cell_type": "code",
      "source": [
        "# Biblioteca de visualizar grafico\n",
        "import matplotlib.pyplot as plt"
      ],
      "metadata": {
        "id": "24ib_m_PeQ1C"
      },
      "execution_count": 5,
      "outputs": []
    },
    {
      "cell_type": "code",
      "source": [
        "# Mostrando no gráfico:\n",
        "plt.scatter(x,y)\n",
        "plt.show() #exibir na tela"
      ],
      "metadata": {
        "id": "xxlw4uVcgr5p",
        "colab": {
          "base_uri": "https://localhost:8080/",
          "height": 265
        },
        "outputId": "e3db5770-235f-4a3f-ac07-66239a604fd4"
      },
      "execution_count": 6,
      "outputs": [
        {
          "output_type": "display_data",
          "data": {
            "text/plain": [
              "<Figure size 432x288 with 1 Axes>"
            ],
            "image/png": "[encoded data removed]"
          },
          "metadata": {
            "needs_background": "light"
          }
        }
      ]
    },
    {
      "cell_type": "code",
      "source": [
        "from sklearn.linear_model import LinearRegression"
      ],
      "metadata": {
        "id": "j4U6K3maeTaS"
      },
      "execution_count": 7,
      "outputs": []
    },
    {
      "cell_type": "code",
      "source": [
        "# Criação do modelo\n",
        "modelo = LinearRegression()"
      ],
      "metadata": {
        "id": "xkO_4ocygync"
      },
      "execution_count": 8,
      "outputs": []
    },
    {
      "cell_type": "code",
      "source": [
        "# Apresentar os dados a'o modelo\n",
        "modelo.fit(x,y)"
      ],
      "metadata": {
        "id": "fXC4rqq2fO20",
        "colab": {
          "base_uri": "https://localhost:8080/"
        },
        "outputId": "6fc13676-a89b-4d94-f31e-b141e931ae5a"
      },
      "execution_count": 9,
      "outputs": [
        {
          "output_type": "execute_result",
          "data": {
            "text/plain": [
              "LinearRegression()"
            ]
          },
          "metadata": {},
          "execution_count": 9
        }
      ]
    },
    {
      "cell_type": "code",
      "source": [
        "# Os mesmos dados que criaram o modelo. Método predict(), indicando que queremos aplicar a previsão nos valores de x\n",
        "modelo.predict(x)"
      ],
      "metadata": {
        "id": "vO35elLvfRF5",
        "colab": {
          "base_uri": "https://localhost:8080/"
        },
        "outputId": "1907d536-9e71-456e-9b14-8d1ad203cc30"
      },
      "execution_count": 10,
      "outputs": [
        {
          "output_type": "execute_result",
          "data": {
            "text/plain": [
              "array([-1.14379386e+01, -2.80438212e+00, -2.38164965e+01, -1.09143280e+01,\n",
              "       -5.12617498e+01,  7.77860859e+00, -1.67072224e+01,  2.31501223e+01,\n",
              "        2.28868519e+00,  4.45566543e-01, -1.27917291e+01,  1.90863908e+00,\n",
              "       -4.18169510e-02,  2.20044819e+01,  3.50814709e+01,  1.59019156e+01,\n",
              "        3.18462290e+01,  2.00372390e+01, -1.21579133e+01,  1.88460808e+01,\n",
              "       -3.37952222e+00, -2.71942237e+01,  2.24066916e+01, -2.14090001e+01,\n",
              "        1.97015896e+01, -3.31490191e+01, -1.02479805e+01,  2.01022614e+01,\n",
              "        1.63974081e+01, -3.20339833e+01,  2.19629035e+00, -2.74850003e+01,\n",
              "        5.31003263e+00, -7.22389933e+00, -2.83993465e+01,  1.64415018e+01,\n",
              "        2.42662318e+01, -3.12602484e+01,  7.00875628e+00,  1.50844262e+01,\n",
              "        1.85144348e+01, -3.15798075e+01,  3.84038593e+01,  3.11719006e+01,\n",
              "        7.36930646e+00,  2.33908879e+01,  2.66562388e+00,  2.61536004e+00,\n",
              "       -5.74177020e+01,  1.08799967e+01,  2.80560242e+00, -1.16582326e+01,\n",
              "        1.90212200e+01,  1.43853416e+01,  6.15614032e+00, -2.44006698e+01,\n",
              "        1.21144927e+01, -3.67290606e-01,  1.97336630e+01,  1.27020507e-01,\n",
              "       -2.52756248e+01,  2.71681078e+01, -2.34010812e+01, -3.80802794e+00,\n",
              "       -3.71792585e+00,  5.38033173e+00, -3.12289985e+01, -9.42682839e+00,\n",
              "        2.79987765e+01,  2.01215569e+01,  3.75150233e+01, -3.96771300e-01,\n",
              "       -3.75015072e+01, -1.15068263e+01,  9.82924237e+00, -1.34409754e+01,\n",
              "       -1.42395210e+01,  8.04949968e+00, -9.84773249e+00,  2.38795588e+01,\n",
              "        4.78646056e+00,  7.16717090e+00, -2.70690135e+01,  3.67073960e+01,\n",
              "       -3.63568597e+01,  4.63693097e+01,  1.27412134e+01, -1.85306945e+01,\n",
              "       -2.79240511e+01, -1.99647475e+01,  3.25068939e+01, -1.49477373e+01,\n",
              "        2.40652201e+00,  1.06543740e+00,  2.00069840e+00,  9.14036243e+00,\n",
              "       -1.76250381e+01, -2.75084715e+00,  8.30066619e+00,  1.70925523e+01,\n",
              "        6.13199200e+00, -2.67322521e+01, -1.13523157e+01,  3.10659409e+01,\n",
              "       -2.97456264e+01, -2.07119525e+01, -6.49728173e+00, -1.07878526e+01,\n",
              "       -2.13425686e+01,  5.08248946e+00, -1.60094336e+00, -8.15434130e+00,\n",
              "        1.68089328e+00,  3.12058285e-01, -1.21704983e+01, -2.44794007e+01,\n",
              "       -4.70389688e+00, -1.38999231e+01, -1.34655539e+01,  1.89872357e+01,\n",
              "        1.92199866e+01, -3.98227798e+00,  2.14749185e+01,  2.41952763e+01,\n",
              "       -2.31832478e+01, -2.75886700e+01,  4.29681308e+01,  8.73542569e+00,\n",
              "        1.01410187e+01,  1.35813716e+01, -4.27643262e+01,  2.41329200e+01,\n",
              "        2.24777177e+00,  1.57086930e+01, -1.43191230e+01,  1.12175548e+01,\n",
              "        1.57462648e+01, -6.37587650e+01, -3.13576596e+01,  5.84292604e+00,\n",
              "        1.94395627e+01, -1.14644639e+01, -3.02632924e+01, -1.37922383e+01,\n",
              "        2.22772204e+01,  2.18798415e+01,  2.78599013e+01,  1.22252060e+01,\n",
              "       -1.36946765e+01, -2.32086639e+01,  1.97352541e+01, -2.77841161e+00,\n",
              "       -2.84945502e+01, -3.77266090e+01,  3.08974736e+01,  3.01998234e+01,\n",
              "        8.49623488e+00,  8.38846597e+00,  8.23231931e-02,  1.83309898e+01,\n",
              "        1.91928906e+01,  2.08931737e+00, -7.77095642e+00,  5.32583831e+00,\n",
              "        6.63867872e+00, -4.78888571e+00, -1.61207202e+01, -8.34578401e+00,\n",
              "       -3.05377332e+01, -5.76603561e+00,  2.27286768e+01, -1.71123568e+01,\n",
              "       -2.48751249e+01, -2.42069690e+01, -2.22205025e+01,  2.12892447e+01,\n",
              "       -2.23840847e+01, -2.58114379e+01, -2.06980066e+01, -8.16004868e+00,\n",
              "        2.55469198e+01, -4.30905351e+01, -1.96057503e+01,  4.59541222e+01,\n",
              "        3.24086425e+01,  8.69480405e+00, -1.98987381e+01,  1.67651942e+01,\n",
              "       -3.14048066e+01, -6.29919309e+00,  3.92468367e+00, -5.97834801e+00,\n",
              "       -2.09181574e+00,  3.02976076e+00, -1.94181228e+01, -1.06363461e+01,\n",
              "       -3.33429506e+01, -4.49280778e+01, -1.14733935e+01,  3.29818241e+01,\n",
              "        1.18570195e+01, -1.64668332e+01, -2.51629014e+00,  1.44817649e+00,\n",
              "        1.43378008e+01,  3.91597456e+00, -4.10825875e+01,  1.43058074e+01,\n",
              "       -1.81886421e+01, -6.68443067e+00, -1.76805479e+00, -8.89026391e+00,\n",
              "       -2.35830656e+00, -2.58506716e+01,  1.66429197e+01, -3.94018582e+01,\n",
              "       -2.02851671e+01,  1.40973578e+01,  1.32358527e+01, -2.10085045e+00,\n",
              "        1.28442491e+01,  2.34417383e+01, -2.99135933e+01, -1.37757527e+01,\n",
              "       -1.69391202e+01,  6.21958009e+00,  3.09811379e+00, -3.06806304e+01,\n",
              "        3.50866694e+01,  3.57083152e+01, -2.70156776e+01, -5.95683082e+00,\n",
              "       -1.28825090e+01, -1.32412256e+01, -2.99661620e+01, -1.03980119e+01,\n",
              "       -1.44772420e+01, -1.44094657e+00,  1.84608735e+01,  8.22417375e+00,\n",
              "       -4.06995504e+01,  1.14919076e+01, -1.65194147e+01, -6.67018213e+00,\n",
              "        1.70872180e+01, -2.65881400e+01,  8.91250106e-01,  3.02507456e+01,\n",
              "        2.75019232e+01,  1.52999140e+01])"
            ]
          },
          "metadata": {},
          "execution_count": 10
        }
      ]
    },
    {
      "cell_type": "code",
      "source": [
        "# Reta de regressão\n",
        "plt.scatter(x,y)\n",
        "plt.plot(x, modelo.predict(x), color='black', linewidth=2)\n",
        "plt.show()"
      ],
      "metadata": {
        "id": "jJpUk_Vuhnkb",
        "colab": {
          "base_uri": "https://localhost:8080/",
          "height": 265
        },
        "outputId": "0260c0b2-1aad-4db1-be3a-5e9727b78c54"
      },
      "execution_count": 11,
      "outputs": [
        {
          "output_type": "display_data",
          "data": {
            "text/plain": [
              "<Figure size 432x288 with 1 Axes>"
            ],
            "image/png": "[encoded data removed]"
          },
          "metadata": {
            "needs_background": "light"
          }
        }
      ]
    }
  ],
  "metadata": {
    "colab": {
      "provenance": [],
      "collapsed_sections": []
    },
    "kernelspec": {
      "display_name": "Python 3",
      "name": "python3"
    },
    "language_info": {
      "name": "python"
    }
  },
  "nbformat": 4,
  "nbformat_minor": 0
}